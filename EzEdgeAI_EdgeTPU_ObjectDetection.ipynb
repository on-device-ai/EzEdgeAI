{
 "cells": [
  {
   "cell_type": "code",
   "execution_count": 1,
   "id": "6cb486ec-0b53-4efd-8ca7-58be08338a2b",
   "metadata": {},
   "outputs": [],
   "source": [
    "import cv2"
   ]
  },
  {
   "cell_type": "code",
   "execution_count": 2,
   "id": "18ba0f6f-c60e-4a63-8af0-2556b49107cc",
   "metadata": {},
   "outputs": [],
   "source": [
    "from ezedgeai_core import Component\n",
    "from ezedgeai_core import Input\n",
    "from ezedgeai_core import Output\n",
    "from ezedgeai_core import Connection"
   ]
  },
  {
   "cell_type": "code",
   "execution_count": 3,
   "id": "a9870695-c979-4944-ad69-7e30477f148a",
   "metadata": {},
   "outputs": [],
   "source": [
    "from ezedgeai_tflite_object_detection import TFLiteModelProcedure\n",
    "from ezedgeai_tflite_object_detection import CameraImageInputComponent\n",
    "from ezedgeai_tflite_object_detection import CameraImageInputProcedure\n",
    "from ezedgeai_tflite_object_detection import TFLiteInterpreterProcedure\n",
    "from ezedgeai_tflite_object_detection import ObjectDetectionResultProcedure\n",
    "from ezedgeai_tflite_object_detection import ImageShowProcedure"
   ]
  },
  {
   "cell_type": "code",
   "execution_count": 4,
   "id": "cfcadb3b-1ce3-4917-bc72-bbd1528e4dd1",
   "metadata": {},
   "outputs": [],
   "source": [
    "mobilenet_ssd_model = Component( 'Mobilenet V1 SSD COCO EdgeTPU Model' , None , None , TFLiteModelProcedure( 'ssd_mobilenet_v1_coco_quant_postprocess_edgetpu.tflite' , 'coco_labels.txt' ) )\n",
    "mobilenet_ssd_model.bind_port( 'model', Output() )\n",
    "    \n",
    "camera_image_source = CameraImageInputComponent( 'Camera Image Source' , CameraImageInputProcedure( ) )\n",
    "camera_image_source.bind_port( 'image', Output() )\n",
    "    \n",
    "tflite_interpreter = Component( 'TFLite Interpreter' , None , None , TFLiteInterpreterProcedure( ) )\n",
    "tflite_interpreter.bind_port( 'model' , Input() )\n",
    "tflite_interpreter.bind_port( 'image' , Input() )\n",
    "tflite_interpreter.bind_port( 'result' , Output() )\n",
    "    \n",
    "detection_result =  Component( 'Object Deprecation Result Process' , None , None , ObjectDetectionResultProcedure( ) )\n",
    "detection_result.bind_port( 'result' , Input() )\n",
    "detection_result.bind_port( 'image' , Output() )\n",
    "    \n",
    "image_show = Component( 'OpenCV Image Show' , None, None, ImageShowProcedure() )\n",
    "image_show.bind_port( 'image' , Input() )"
   ]
  },
  {
   "cell_type": "code",
   "execution_count": 5,
   "id": "5182e22b-0ed8-4310-bbbd-b6dc83e793fa",
   "metadata": {},
   "outputs": [],
   "source": [
    "connect1 = Connection( mobilenet_ssd_model.get_port( 'model' ), tflite_interpreter.get_port( 'model' ) )\n",
    "connect2 = Connection( camera_image_source.get_port( 'image' ), tflite_interpreter.get_port( 'image' ) )\n",
    "connect3 = Connection( tflite_interpreter.get_port( 'result' ), detection_result.get_port( 'result' ) )\n",
    "connect4 = Connection( detection_result.get_port( 'image' ), image_show.get_port( 'image' ) )\n",
    "    \n",
    "connect1.connect()\n",
    "connect2.connect()\n",
    "connect3.connect()\n",
    "connect4.connect()"
   ]
  },
  {
   "cell_type": "code",
   "execution_count": 6,
   "id": "50f045f7-263f-44b3-b46d-455bc1a2bdeb",
   "metadata": {},
   "outputs": [
    {
     "name": "stdout",
     "output_type": "stream",
     "text": [
      "TFLiteModelProcedure::proc() model meta data : {'model': '/home/yilintung/EzEdgeAI/models/ssd_mobilenet_v1_coco_quant_postprocess_edgetpu.tflite', 'labels': '/home/yilintung/EzEdgeAI/models/coco_labels.txt'}\n",
      "TFLiteInterpreterProcedure::proc() self._model_meta = {'model': '/home/yilintung/EzEdgeAI/models/ssd_mobilenet_v1_coco_quant_postprocess_edgetpu.tflite', 'labels': '/home/yilintung/EzEdgeAI/models/coco_labels.txt'}\n",
      "TFLiteInterpreterProcedure::proc() command : start\n",
      "TFLiteInterpreterProcedure::proc() model meta data : {'model': '/home/yilintung/EzEdgeAI/models/ssd_mobilenet_v1_coco_quant_postprocess_edgetpu.tflite', 'labels': '/home/yilintung/EzEdgeAI/models/coco_labels.txt'}\n",
      "!\n",
      "!\n",
      "!\n",
      "!\n",
      "!\n",
      "!\n",
      "!\n",
      "!\n",
      "!\n",
      "!\n",
      "!\n",
      "!\n",
      "!\n",
      "!\n",
      "!\n",
      "!\n",
      "!\n",
      "!\n",
      "!\n",
      "!\n",
      "!\n",
      "!\n",
      "!\n",
      "!\n",
      "!\n",
      "!\n",
      "!\n",
      "!\n",
      "!\n",
      "!\n",
      "!\n",
      "!\n",
      "!\n",
      "!\n",
      "!\n",
      "!\n",
      "!\n",
      "!\n",
      "!\n",
      "!\n",
      "!\n",
      "!\n",
      "!\n",
      "!\n",
      "!\n",
      "!\n",
      "!\n",
      "!\n",
      "!\n",
      "!\n",
      "!\n",
      "!\n",
      "!\n",
      "!\n",
      "!\n",
      "!\n",
      "!\n",
      "!\n",
      "!\n",
      "!\n",
      "!\n",
      "!\n",
      "!\n",
      "!\n",
      "!\n",
      "!\n",
      "!\n",
      "!\n",
      "!\n",
      "!\n",
      "TFLiteInterpreterProcedure::proc() command : stop\n"
     ]
    }
   ],
   "source": [
    "tflite_interpreter.set_property('threshold',0.7)    \n",
    "mobilenet_ssd_model.process( )\n",
    "camera_image_source.capture_start( 0 )\n",
    "while True:\n",
    "    camera_image_source.process( )\n",
    "    if cv2.waitKey(1) == ord('q'):\n",
    "        break\n",
    "cv2.destroyAllWindows( )\n",
    "camera_image_source.capture_stop( )"
   ]
  }
 ],
 "metadata": {
  "kernelspec": {
   "display_name": "Python 3",
   "language": "python",
   "name": "python3"
  },
  "language_info": {
   "codemirror_mode": {
    "name": "ipython",
    "version": 3
   },
   "file_extension": ".py",
   "mimetype": "text/x-python",
   "name": "python",
   "nbconvert_exporter": "python",
   "pygments_lexer": "ipython3",
   "version": "3.6.9"
  }
 },
 "nbformat": 4,
 "nbformat_minor": 5
}
