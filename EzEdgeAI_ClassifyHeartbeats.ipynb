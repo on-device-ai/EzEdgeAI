{
 "cells": [
  {
   "cell_type": "code",
   "execution_count": 1,
   "id": "3277da13-67b6-4223-81ff-125cdf5a0b0b",
   "metadata": {},
   "outputs": [],
   "source": [
    "import matplotlib.pyplot as plt"
   ]
  },
  {
   "cell_type": "code",
   "execution_count": 2,
   "id": "a6047299-1b16-466a-940a-f91570a6715e",
   "metadata": {},
   "outputs": [],
   "source": [
    "from ezedgeai_core import Component\n",
    "from ezedgeai_core import Input\n",
    "from ezedgeai_core import Output\n",
    "from ezedgeai_core import Connection"
   ]
  },
  {
   "cell_type": "code",
   "execution_count": 3,
   "id": "bfbb0baf-5f2e-4eda-b7c2-7ccc78ef10ce",
   "metadata": {},
   "outputs": [],
   "source": [
    "from ezedgeai_classify_heartbeats import ClassifyHeartbeatsModelProcedure\n",
    "from ezedgeai_classify_heartbeats import MitBihArrhythmiaDatasetProcedure\n",
    "from ezedgeai_classify_heartbeats import DatasetSplitProcedure\n",
    "from ezedgeai_classify_heartbeats import TeeProcedure\n",
    "from ezedgeai_classify_heartbeats import ClassifyHeartbeatsModelTrainProcedure\n",
    "from ezedgeai_classify_heartbeats import ClassifyHeartbeatsModelEvaluteProcedure\n",
    "from ezedgeai_classify_heartbeats import ConvertToTFLiteModelProcedure"
   ]
  },
  {
   "cell_type": "code",
   "execution_count": 4,
   "id": "d64c1fc8-2478-4271-bac3-06cada09c680",
   "metadata": {},
   "outputs": [],
   "source": [
    "def show_train_history(train_history, train, validation):\n",
    "    plt.plot(train_history.history[train])\n",
    "    plt.plot(train_history.history[validation])\n",
    "    plt.title('Train History')\n",
    "    plt.ylabel('train')\n",
    "    plt.xlabel('Epoch')\n",
    "    plt.legend(['train', 'validation'], loc='upper left')\n",
    "    plt.show()"
   ]
  },
  {
   "cell_type": "code",
   "execution_count": 5,
   "id": "e0f025ca-fb50-47f9-a820-0672b6ff348d",
   "metadata": {},
   "outputs": [],
   "source": [
    "model = Component( 'Model' , None, None, ClassifyHeartbeatsModelProcedure() )\n",
    "model.bind_port( 'model', Output() )\n",
    "\n",
    "dataset = Component( 'Dataset' , None, None, MitBihArrhythmiaDatasetProcedure() )\n",
    "dataset.bind_port( 'dataset', Output())\n",
    "\n",
    "split = Component( 'Split' , None, None, DatasetSplitProcedure() )\n",
    "split.bind_port( 'dataset', Input())\n",
    "split.bind_port( 'train_data', Output())\n",
    "split.bind_port( 'test_data', Output())\n",
    "\n",
    "\n",
    "tee1 = Component( 'Tee1' , None, None, TeeProcedure() )\n",
    "tee1.bind_port( 'input', Input()) \n",
    "tee1.bind_port( 'output1', Output()) \n",
    "tee1.bind_port( 'output2', Output()) \n",
    "\n",
    "model_train = Component( 'Model Train' , None, None, ClassifyHeartbeatsModelTrainProcedure() )\n",
    "model_train.bind_port( 'model_in', Input())\n",
    "model_train.bind_port( 'train_data', Input())\n",
    "model_train.bind_port( 'model_out', Output())\n",
    "\n",
    "tee2 = Component( 'Tee2' , None, None, TeeProcedure() )\n",
    "tee2.bind_port( 'input', Input()) \n",
    "tee2.bind_port( 'output1', Output()) \n",
    "tee2.bind_port( 'output2', Output())\n",
    "\n",
    "model_evaluate = Component( 'Model Evaluate' , None, None, ClassifyHeartbeatsModelEvaluteProcedure(show_confusion_matrix=True) )\n",
    "model_evaluate.bind_port( 'model', Input())\n",
    "model_evaluate.bind_port( 'test_data', Input())\n",
    "\n",
    "model_converter = Component( 'Model Converter' , None, None, ConvertToTFLiteModelProcedure(compile_micro_model=True) )\n",
    "model_converter.bind_port( 'model', Input())\n",
    "model_converter.bind_port( 'train_data', Input())"
   ]
  },
  {
   "cell_type": "code",
   "execution_count": 6,
   "id": "cba1aa02-0ba1-4c27-aa0a-4d8a77b10295",
   "metadata": {},
   "outputs": [],
   "source": [
    "connect1 = Connection( model.get_port( 'model' ), model_train.get_port( 'model_in' ) )\n",
    "connect2 = Connection( dataset.get_port( 'dataset' ), split.get_port( 'dataset' ) )\n",
    "connect3 = Connection( split.get_port( 'train_data' ), tee1.get_port( 'input' ) )\n",
    "connect4 = Connection( tee1.get_port( 'output1' ), model_train.get_port( 'train_data' ) )\n",
    "connect5 = Connection( model_train.get_port( 'model_out' ), tee2.get_port( 'input' ) )\n",
    "connect6 = Connection( tee2.get_port( 'output1' ), model_evaluate.get_port( 'model' ) )\n",
    "connect7 = Connection( split.get_port( 'test_data' ), model_evaluate.get_port( 'test_data' ) )\n",
    "connect8 = Connection( tee2.get_port( 'output2' ), model_converter.get_port( 'model' ) )\n",
    "connect9 = Connection( tee1.get_port( 'output2' ), model_converter.get_port( 'train_data' ) )"
   ]
  },
  {
   "cell_type": "code",
   "execution_count": 7,
   "id": "dffd9211-e0be-40ef-8f32-4841106b696f",
   "metadata": {},
   "outputs": [],
   "source": [
    "connect1.connect()\n",
    "connect2.connect()\n",
    "connect3.connect()\n",
    "connect4.connect()\n",
    "connect5.connect()\n",
    "connect6.connect()\n",
    "connect7.connect()\n",
    "connect8.connect()\n",
    "connect9.connect()"
   ]
  },
  {
   "cell_type": "code",
   "execution_count": 8,
   "id": "3e08f077-e80d-4024-a4fe-5510bf7c0117",
   "metadata": {},
   "outputs": [
    {
     "name": "stdout",
     "output_type": "stream",
     "text": [
      "Model: \"model\"\n",
      "_________________________________________________________________\n",
      "Layer (type)                 Output Shape              Param #   \n",
      "=================================================================\n",
      "input_1 (InputLayer)         [(None, 260)]             0         \n",
      "_________________________________________________________________\n",
      "reshape (Reshape)            (None, 260, 1)            0         \n",
      "_________________________________________________________________\n",
      "conv1d (Conv1D)              (None, 258, 5)            20        \n",
      "_________________________________________________________________\n",
      "re_lu (ReLU)                 (None, 258, 5)            0         \n",
      "_________________________________________________________________\n",
      "max_pooling1d (MaxPooling1D) (None, 129, 5)            0         \n",
      "_________________________________________________________________\n",
      "conv1d_1 (Conv1D)            (None, 126, 10)           210       \n",
      "_________________________________________________________________\n",
      "re_lu_1 (ReLU)               (None, 126, 10)           0         \n",
      "_________________________________________________________________\n",
      "max_pooling1d_1 (MaxPooling1 (None, 63, 10)            0         \n",
      "_________________________________________________________________\n",
      "conv1d_2 (Conv1D)            (None, 60, 20)            820       \n",
      "_________________________________________________________________\n",
      "re_lu_2 (ReLU)               (None, 60, 20)            0         \n",
      "_________________________________________________________________\n",
      "max_pooling1d_2 (MaxPooling1 (None, 30, 20)            0         \n",
      "_________________________________________________________________\n",
      "flatten (Flatten)            (None, 600)               0         \n",
      "_________________________________________________________________\n",
      "dense (Dense)                (None, 30)                18030     \n",
      "_________________________________________________________________\n",
      "re_lu_3 (ReLU)               (None, 30)                0         \n",
      "_________________________________________________________________\n",
      "dense_1 (Dense)              (None, 20)                620       \n",
      "_________________________________________________________________\n",
      "re_lu_4 (ReLU)               (None, 20)                0         \n",
      "_________________________________________________________________\n",
      "dense_2 (Dense)              (None, 5)                 105       \n",
      "=================================================================\n",
      "Total params: 19,805\n",
      "Trainable params: 19,805\n",
      "Non-trainable params: 0\n",
      "_________________________________________________________________\n",
      "./beats/102.npy file is not exist\n",
      "./beats/104.npy file is not exist\n",
      "Type N number of beats = 90078\n",
      "Type S number of beats = 2704\n",
      "Type V number of beats = 6271\n",
      "Type F number of beats = 786\n",
      "Type Q number of beats = 3582\n",
      "Total  number of beats = 103421\n",
      "ClassifyHeartbeatsModelProcedure::proc() : class_weight = {0: 0.12942908098583983, 1: 0.9737317088893186, 2: 0.9391800425449623, 3: 0.9925224005672661, 4: 0.9651367670126131}\n",
      "Train on 65154 samples, validate on 27924 samples\n",
      "Epoch 1/20\n",
      "65154/65154 [==============================] - 11s 169us/sample - loss: 0.0713 - categorical_accuracy: 0.9425 - val_loss: 0.0692 - val_categorical_accuracy: 0.9710\n",
      "Epoch 2/20\n",
      "65154/65154 [==============================] - 9s 136us/sample - loss: 0.0411 - categorical_accuracy: 0.9667 - val_loss: 0.0407 - val_categorical_accuracy: 0.9768\n",
      "Epoch 3/20\n",
      "65154/65154 [==============================] - 9s 132us/sample - loss: 0.0334 - categorical_accuracy: 0.9724 - val_loss: 0.0398 - val_categorical_accuracy: 0.9703\n",
      "Epoch 4/20\n",
      "65154/65154 [==============================] - 9s 132us/sample - loss: 0.0288 - categorical_accuracy: 0.9758 - val_loss: 0.0331 - val_categorical_accuracy: 0.9696\n",
      "Epoch 5/20\n",
      "65154/65154 [==============================] - 9s 133us/sample - loss: 0.0255 - categorical_accuracy: 0.9764 - val_loss: 0.0312 - val_categorical_accuracy: 0.9785\n",
      "Epoch 6/20\n",
      "65154/65154 [==============================] - 9s 139us/sample - loss: 0.0231 - categorical_accuracy: 0.9790 - val_loss: 0.0308 - val_categorical_accuracy: 0.9781\n",
      "Epoch 7/20\n",
      "65154/65154 [==============================] - 9s 133us/sample - loss: 0.0200 - categorical_accuracy: 0.9804 - val_loss: 0.0327 - val_categorical_accuracy: 0.9789\n",
      "Epoch 8/20\n",
      "65154/65154 [==============================] - 9s 134us/sample - loss: 0.0181 - categorical_accuracy: 0.9819 - val_loss: 0.0322 - val_categorical_accuracy: 0.9718\n",
      "Epoch 9/20\n",
      "65154/65154 [==============================] - 9s 133us/sample - loss: 0.0169 - categorical_accuracy: 0.9827 - val_loss: 0.0306 - val_categorical_accuracy: 0.9810\n",
      "Epoch 10/20\n",
      "65154/65154 [==============================] - 9s 134us/sample - loss: 0.0155 - categorical_accuracy: 0.9828 - val_loss: 0.0318 - val_categorical_accuracy: 0.9814\n",
      "Epoch 11/20\n",
      "65154/65154 [==============================] - 9s 132us/sample - loss: 0.0139 - categorical_accuracy: 0.9847 - val_loss: 0.0342 - val_categorical_accuracy: 0.9837\n",
      "Epoch 12/20\n",
      "65154/65154 [==============================] - 9s 133us/sample - loss: 0.0132 - categorical_accuracy: 0.9850 - val_loss: 0.0353 - val_categorical_accuracy: 0.9842\n",
      "ClassifyHeartbeatsModelEvaluteProcedure::proc() : Model evaluate score = [0.05754168317783915, 0.985014]\n",
      "\n",
      "predict     0    1    2   3    4\n",
      "label                           \n",
      "0        8969   44   30   2    2\n",
      "1          37  221    0   1    0\n",
      "2          11    0  589  10    0\n",
      "3          11    0    7  72    0\n",
      "4           0    0    0   0  337\n",
      "acc  = 98.68% , 99.21% , 99.44% , 99.7% , 99.98% \n",
      "ppv  = 99.35% , 83.4% , 94.09% , 84.71% , 99.41% \n",
      "sen  = 99.14% , 85.33% , 96.56% , 80.0% , 100.0% \n",
      "spec = 95.45% , 99.56% , 99.62% , 99.87% , 99.98% \n"
     ]
    }
   ],
   "source": [
    "model.process()\n",
    "dataset.process()"
   ]
  },
  {
   "cell_type": "code",
   "execution_count": 9,
   "id": "9f02b991-efba-4a97-baa3-bcc2aed4939c",
   "metadata": {},
   "outputs": [],
   "source": [
    "train_history = model_train.get_property('train_history')"
   ]
  },
  {
   "cell_type": "code",
   "execution_count": 10,
   "id": "09e57934-16c5-4242-9703-d80b9313696a",
   "metadata": {},
   "outputs": [
    {
     "data": {
      "image/png": "[encoded data removed]",
      "text/plain": [
       "<Figure size 432x288 with 1 Axes>"
      ]
     },
     "metadata": {
      "needs_background": "light"
     },
     "output_type": "display_data"
    }
   ],
   "source": [
    "show_train_history(train_history, 'categorical_accuracy', 'val_categorical_accuracy')"
   ]
  },
  {
   "cell_type": "code",
   "execution_count": 11,
   "id": "8522551e-1f54-4368-8d79-7217e4a871ba",
   "metadata": {},
   "outputs": [
    {
     "data": {
      "image/png": "[encoded data removed]",
      "text/plain": [
       "<Figure size 432x288 with 1 Axes>"
      ]
     },
     "metadata": {
      "needs_background": "light"
     },
     "output_type": "display_data"
    }
   ],
   "source": [
    "show_train_history(train_history, 'loss', 'val_loss')"
   ]
  }
 ],
 "metadata": {
  "kernelspec": {
   "display_name": "Python 3 (ipykernel)",
   "language": "python",
   "name": "python3"
  },
  "language_info": {
   "codemirror_mode": {
    "name": "ipython",
    "version": 3
   },
   "file_extension": ".py",
   "mimetype": "text/x-python",
   "name": "python",
   "nbconvert_exporter": "python",
   "pygments_lexer": "ipython3",
   "version": "3.7.11"
  }
 },
 "nbformat": 4,
 "nbformat_minor": 5
}
