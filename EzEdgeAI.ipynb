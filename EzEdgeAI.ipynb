{
 "cells": [
  {
   "cell_type": "markdown",
   "id": "61adda86-05c7-464f-9849-3779b4376019",
   "metadata": {},
   "source": [
    "# EdgeAI (TinyML Version)"
   ]
  },
  {
   "cell_type": "markdown",
   "id": "f1fcb0ed-f336-4c70-8b05-ed5fffddaedf",
   "metadata": {},
   "source": [
    "This EdgeAI version integrates with previous TinyML related projects (such as [OpenM1](https://github.com/on-device-ai/OpenM1), [McuML](https://github.com/on-device-ai/McuML), [tflite-micro-compiler](https://github.com/on-device-ai/tflite-micro-compiler), etc.).  \n",
    "Here, the implementation target is the [ClassifyHeartbeats](https://github.com/on-device-ai/ClassifyHeartbeats) project. After the model training is complete, it will be deployed to the STM32F746 Discovery kit.  "
   ]
  },
  {
   "cell_type": "markdown",
   "id": "dbb83c9a-ffb0-4309-992f-4b11b18b8c02",
   "metadata": {},
   "source": [
    "**The following cell is a helper function for executing commands of command prompt or shell.**  "
   ]
  },
  {
   "cell_type": "code",
   "execution_count": null,
   "id": "c7ee0195-f8de-4360-829f-28417465977c",
   "metadata": {},
   "outputs": [],
   "source": [
    "import subprocess\n",
    "\n",
    "def run_cmd(cmd):\n",
    "    proc = subprocess.Popen(cmd, shell=True, stdout=subprocess.PIPE, stderr=subprocess.STDOUT)\n",
    "    while True:\n",
    "        output = proc.stdout.readline()\n",
    "        if proc.poll() is not None:\n",
    "            break\n",
    "        if output:\n",
    "            try:\n",
    "                print(output.decode('utf-8').replace('\\n', ''))\n",
    "            except UnicodeDecodeError:\n",
    "                pass\n",
    "    rc = proc.poll()"
   ]
  },
  {
   "cell_type": "markdown",
   "id": "42c7dafe-f6f7-463e-9c39-6978d1015fed",
   "metadata": {},
   "source": [
    "## Low Code"
   ]
  },
  {
   "cell_type": "markdown",
   "id": "35a2be15-ebb6-4456-b17d-093fb1a33b0c",
   "metadata": {},
   "source": [
    "Components can be called directly from Python and integrated with the Jupyter Lab environment for a \"low-code\" approach. Please click the link to get started: [EzEdgeAI_ClassifyHeartbeats.ipynb](./EzEdgeAI_ClassifyHeartbeats.ipynb)."
   ]
  },
  {
   "cell_type": "markdown",
   "id": "8716d6cf-0097-4e86-8116-f5f3bd4e0311",
   "metadata": {},
   "source": [
    "## No Code"
   ]
  },
  {
   "cell_type": "markdown",
   "id": "23e2a1d1-0088-4bd8-a06f-2e8a5bfe1a11",
   "metadata": {},
   "source": [
    "Integrate components into flow-based visual programming using the ryvencore-qt library to achieve the \"no-code\" approach. Please run the following cell to start the visual development environment."
   ]
  },
  {
   "cell_type": "code",
   "execution_count": null,
   "id": "4bdefc34-88d5-4de3-8dd9-55ad9756ce2d",
   "metadata": {},
   "outputs": [],
   "source": [
    "cmd = 'start cmd /c \"python ezedgeai_gui.py\"'\n",
    "run_cmd(cmd)"
   ]
  },
  {
   "cell_type": "markdown",
   "id": "1578b6e1-a7a1-4d2f-a14b-249d35f716d3",
   "metadata": {},
   "source": [
    "## Deploy to STM32F746 (mbed)"
   ]
  },
  {
   "cell_type": "code",
   "execution_count": null,
   "id": "507ed87f-e169-4fa8-8fe3-6fe65cf040e5",
   "metadata": {},
   "outputs": [],
   "source": [
    "import os\n",
    "\n",
    "root_path = ''\n",
    "proj_path = ''\n",
    "class cd:\n",
    "    \"\"\"Context manager for changing the current working directory\"\"\"\n",
    "    def __init__(self, newPath):\n",
    "        self.newPath = os.path.expanduser(newPath)\n",
    "\n",
    "    def __enter__(self):\n",
    "        self.savedPath = os.getcwd()\n",
    "        os.chdir(self.newPath)\n",
    "\n",
    "    def __exit__(self, etype, value, traceback):\n",
    "        os.chdir(self.savedPath)\n",
    "        \n",
    "with cd('..\\\\'):\n",
    "    root_path = os.getcwd()\n",
    "proj_path = os.getcwd()"
   ]
  },
  {
   "cell_type": "code",
   "execution_count": null,
   "id": "426926e7-5b04-4085-bb72-173bd36ade8a",
   "metadata": {},
   "outputs": [],
   "source": [
    "cmd = proj_path + '\\\\mbed_cmd.bat mbed --version'\n",
    "run_cmd(cmd)"
   ]
  },
  {
   "cell_type": "code",
   "execution_count": null,
   "id": "98549c87-10f0-45f8-a0da-052330f51c37",
   "metadata": {},
   "outputs": [],
   "source": [
    "gcc_path = root_path + '\\\\third_party_tools\\\\gcc_embedded\\\\bin'\n",
    "\n",
    "cmd = proj_path + '\\\\mbed_cmd.bat mbed config -G GCC_ARM_PATH ' + gcc_path\n",
    "run_cmd(cmd)"
   ]
  },
  {
   "cell_type": "code",
   "execution_count": null,
   "id": "a5bc89d5-70b6-4785-8643-746c23793a8e",
   "metadata": {},
   "outputs": [],
   "source": [
    "cmd = proj_path + '\\\\mbed_cmd.bat mbed config --list'\n",
    "run_cmd(cmd)"
   ]
  },
  {
   "cell_type": "code",
   "execution_count": null,
   "id": "adf5c196-97e1-4cf9-bb62-a60d60111255",
   "metadata": {},
   "outputs": [],
   "source": [
    "os.chdir(proj_path + '\\\\mbed')"
   ]
  },
  {
   "cell_type": "code",
   "execution_count": null,
   "id": "8648ad27-27ba-417f-a293-717b6b441b0c",
   "metadata": {},
   "outputs": [],
   "source": [
    "cmd = proj_path + '\\\\mbed_cmd.bat mbed config root .'\n",
    "run_cmd(cmd)"
   ]
  },
  {
   "cell_type": "code",
   "execution_count": null,
   "id": "49caf4f3-38fd-4a86-ad35-94ca98e3c410",
   "metadata": {},
   "outputs": [],
   "source": [
    "cmd = proj_path + '\\\\mbed_cmd.bat mbed deploy'\n",
    "run_cmd(cmd)"
   ]
  },
  {
   "cell_type": "code",
   "execution_count": null,
   "id": "bdf7f43c-55ea-4992-9576-3e0bc78f308f",
   "metadata": {},
   "outputs": [],
   "source": [
    "import fileinput, glob;\n",
    "for filename in glob.glob(\"mbed-os/tools/profiles/*.json\"):\n",
    "    for line in fileinput.input(filename, inplace=True):\n",
    "        print(line.replace(\"\\\"-std=gnu++98\\\"\",\"\\\"-std=c++11\\\", \\\"-fpermissive\\\"\"))"
   ]
  },
  {
   "cell_type": "code",
   "execution_count": null,
   "id": "26115970-0d17-4167-889f-a94bdca3de6b",
   "metadata": {},
   "outputs": [],
   "source": [
    "cmd = proj_path + '\\\\mbed_cmd.bat mbed compile -m DISCO_F746NG -t GCC_ARM'\n",
    "run_cmd(cmd)"
   ]
  },
  {
   "cell_type": "code",
   "execution_count": null,
   "id": "1381e3a2-350b-42d8-ac83-565fac8c1499",
   "metadata": {},
   "outputs": [],
   "source": [
    "DIS_F746NG = 'E:\\\\'\n",
    "cmd = 'copy .\\\\BUILD\\\\DISCO_F746NG\\\\GCC_ARM\\\\mbed.bin ' + DIS_F746NG\n",
    "run_cmd(cmd)"
   ]
  }
 ],
 "metadata": {
  "kernelspec": {
   "display_name": "Python 3 (ipykernel)",
   "language": "python",
   "name": "python3"
  },
  "language_info": {
   "codemirror_mode": {
    "name": "ipython",
    "version": 3
   },
   "file_extension": ".py",
   "mimetype": "text/x-python",
   "name": "python",
   "nbconvert_exporter": "python",
   "pygments_lexer": "ipython3",
   "version": "3.7.11"
  }
 },
 "nbformat": 4,
 "nbformat_minor": 5
}
